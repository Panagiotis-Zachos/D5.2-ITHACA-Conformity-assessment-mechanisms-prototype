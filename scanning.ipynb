{
 "cells": [
  {
   "cell_type": "code",
   "id": "initial_id",
   "metadata": {
    "collapsed": true,
    "ExecuteTime": {
     "end_time": "2024-07-12T13:40:48.888862Z",
     "start_time": "2024-07-12T13:40:48.883849Z"
    }
   },
   "source": [
    "import tensorflow as tf\n",
    "from tensorflow.keras.layers import Conv2D, MaxPooling2D, Flatten, Dense, Dropout, Lambda"
   ],
   "outputs": [],
   "execution_count": 24
  },
  {
   "metadata": {
    "ExecuteTime": {
     "end_time": "2024-07-12T13:40:49.089124Z",
     "start_time": "2024-07-12T13:40:48.890018Z"
    }
   },
   "cell_type": "code",
   "source": [
    "fashion_mnist = tf.keras.datasets.fashion_mnist\n",
    "(train_images, train_labels), (test_images, test_labels) = fashion_mnist.load_data()\n",
    "train_images.shape, test_labels.shape"
   ],
   "id": "a80a0a15264326cf",
   "outputs": [
    {
     "data": {
      "text/plain": [
       "((60000, 28, 28), (10000,))"
      ]
     },
     "execution_count": 25,
     "metadata": {},
     "output_type": "execute_result"
    }
   ],
   "execution_count": 25
  },
  {
   "metadata": {
    "ExecuteTime": {
     "end_time": "2024-07-12T13:40:49.135698Z",
     "start_time": "2024-07-12T13:40:49.090129Z"
    }
   },
   "cell_type": "code",
   "source": [
    "train_images = train_images.reshape((-1, 28, 28, 1)).astype('float32')\n",
    "test_images = test_images.reshape((-1, 28, 28, 1)).astype('float32')"
   ],
   "id": "528e64d6d1ef80d5",
   "outputs": [],
   "execution_count": 26
  },
  {
   "metadata": {
    "ExecuteTime": {
     "end_time": "2024-07-12T13:40:49.165894Z",
     "start_time": "2024-07-12T13:40:49.136699Z"
    }
   },
   "cell_type": "code",
   "source": [
    "train_images /= 255.0\n",
    "test_images /= 255.0"
   ],
   "id": "365d837a1a97f4c5",
   "outputs": [],
   "execution_count": 27
  },
  {
   "metadata": {
    "ExecuteTime": {
     "end_time": "2024-07-12T13:40:49.181044Z",
     "start_time": "2024-07-12T13:40:49.166865Z"
    }
   },
   "cell_type": "code",
   "source": [
    "class SafeModel(tf.keras.Model):\n",
    "    def __init__(self):\n",
    "        super(SafeModel, self).__init__()\n",
    "        self.conv1 = Conv2D(32, (3, 3), activation='relu', input_shape=(28, 28, 1))\n",
    "        self.pool1 = MaxPooling2D((2, 2))\n",
    "        self.conv2 = Conv2D(64, (3, 3), activation='relu')\n",
    "        self.pool2 = MaxPooling2D((2, 2))\n",
    "        self.flatten = Flatten()\n",
    "        self.d1 = Dense(128, activation='relu')\n",
    "        self.dropout = Dropout(0.5)\n",
    "        self.d2 = Dense(10, activation='softmax')\n",
    "\n",
    "    def call(self, x):\n",
    "        x = self.conv1(x)\n",
    "        x = self.pool1(x)\n",
    "        x = self.conv2(x)\n",
    "        x = self.pool2(x)\n",
    "        x = self.flatten(x)\n",
    "        x = self.d1(x)\n",
    "        x = self.dropout(x)\n",
    "        return self.d2(x)"
   ],
   "id": "c2fc85a11941f745",
   "outputs": [],
   "execution_count": 28
  },
  {
   "metadata": {
    "ExecuteTime": {
     "end_time": "2024-07-12T13:40:54.973464Z",
     "start_time": "2024-07-12T13:40:49.182042Z"
    }
   },
   "cell_type": "code",
   "source": [
    "safe = SafeModel()\n",
    "safe.compile(optimizer='adam', loss='sparse_categorical_crossentropy', metrics=['accuracy'])\n",
    "safe.fit(train_images, train_labels, epochs=1)\n",
    "safe.save('models/safemodel')"
   ],
   "id": "282bef9ef68856f8",
   "outputs": [
    {
     "name": "stdout",
     "output_type": "stream",
     "text": [
      "1875/1875 [==============================] - 5s 3ms/step - loss: 0.5481 - accuracy: 0.8056\n",
      "INFO:tensorflow:Assets written to: models/safemodel\\assets\n"
     ]
    },
    {
     "name": "stderr",
     "output_type": "stream",
     "text": [
      "INFO:tensorflow:Assets written to: models/safemodel\\assets\n"
     ]
    }
   ],
   "execution_count": 29
  },
  {
   "metadata": {
    "ExecuteTime": {
     "end_time": "2024-07-12T13:40:54.989010Z",
     "start_time": "2024-07-12T13:40:54.974464Z"
    }
   },
   "cell_type": "code",
   "source": [
    "from modelscan.modelscan import ModelScan\n",
    "\n",
    "ModelScan().scan('models/safemodel')"
   ],
   "id": "c6679cac19295323",
   "outputs": [
    {
     "data": {
      "text/plain": [
       "{'summary': {'total_issues_by_severity': {'LOW': 0,\n",
       "   'MEDIUM': 0,\n",
       "   'HIGH': 0,\n",
       "   'CRITICAL': 0},\n",
       "  'total_issues': 0,\n",
       "  'input_path': 'models/safemodel',\n",
       "  'absolute_path': 'C:\\\\Users\\\\nikos\\\\PycharmProjects\\\\ITHACA\\\\models\\\\safemodel',\n",
       "  'modelscan_version': '0.7.6',\n",
       "  'timestamp': '2024-07-12T16:40:54.979203',\n",
       "  'scanned': {'total_scanned': 3,\n",
       "   'scanned_files': ['fingerprint.pb', 'keras_metadata.pb', 'saved_model.pb']},\n",
       "  'skipped': {'total_skipped': 2,\n",
       "   'skipped_files': [{'category': 'SCAN_NOT_SUPPORTED',\n",
       "     'description': 'Model Scan did not scan file',\n",
       "     'source': 'variables\\\\variables.data-00000-of-00001'},\n",
       "    {'category': 'SCAN_NOT_SUPPORTED',\n",
       "     'description': 'Model Scan did not scan file',\n",
       "     'source': 'variables\\\\variables.index'}]}},\n",
       " 'issues': [],\n",
       " 'errors': []}"
      ]
     },
     "execution_count": 30,
     "metadata": {},
     "output_type": "execute_result"
    }
   ],
   "execution_count": 30
  },
  {
   "metadata": {
    "ExecuteTime": {
     "end_time": "2024-07-12T13:44:41.250060Z",
     "start_time": "2024-07-12T13:44:41.232545Z"
    }
   },
   "cell_type": "code",
   "source": "import os",
   "id": "c27e57c373c836ee",
   "outputs": [],
   "execution_count": 41
  },
  {
   "metadata": {
    "ExecuteTime": {
     "end_time": "2024-07-12T13:50:12.212047Z",
     "start_time": "2024-07-12T13:50:12.192573Z"
    }
   },
   "cell_type": "code",
   "source": [
    "class IOModel(tf.keras.Model):\n",
    "    def __init__(self):\n",
    "        super(IOModel, self).__init__()\n",
    "        self.conv1 = Conv2D(32, (3, 3), activation='relu', input_shape=(28, 28, 1))\n",
    "        self.pool1 = MaxPooling2D((2, 2))\n",
    "        self.conv2 = Conv2D(64, (3, 3), activation='relu')\n",
    "        self.pool2 = MaxPooling2D((2, 2))\n",
    "        self.flatten = Flatten()\n",
    "        self.d1 = Dense(128, activation='relu')\n",
    "        self.dropout = Dropout(0.5)\n",
    "        self.d2 = Dense(10, activation='softmax')\n",
    "\n",
    "    def call(self, x, training=None, mask=None):\n",
    "        f = tf.io.read_file('top_secret.txt')\n",
    "        # add a lambda layer to read the file\n",
    "        g = tf.io.write_file('top_secret.txt', tf.constant('top secret'))\n",
    "        x = self.conv1(x)\n",
    "        x = self.pool1(x)\n",
    "        x = self.conv2(x)\n",
    "        x = self.pool2(x)\n",
    "        x = self.flatten(x)\n",
    "        x = self.d1(x)\n",
    "        x = self.dropout(x)\n",
    "        return self.d2(x)"
   ],
   "id": "8c3876c0f7746aa7",
   "outputs": [],
   "execution_count": 57
  },
  {
   "metadata": {
    "ExecuteTime": {
     "end_time": "2024-07-12T13:50:21.153269Z",
     "start_time": "2024-07-12T13:50:13.471933Z"
    }
   },
   "cell_type": "code",
   "source": [
    "io = IOModel()\n",
    "io.compile(optimizer='adam', loss='sparse_categorical_crossentropy', metrics=['accuracy'])\n",
    "io.fit(train_images, train_labels, epochs=1)\n",
    "io.save('models/iomodel')"
   ],
   "id": "802238af6da4a203",
   "outputs": [
    {
     "name": "stdout",
     "output_type": "stream",
     "text": [
      "1875/1875 [==============================] - 7s 4ms/step - loss: 0.5702 - accuracy: 0.7925\n",
      "INFO:tensorflow:Assets written to: models/iomodel\\assets\n"
     ]
    },
    {
     "name": "stderr",
     "output_type": "stream",
     "text": [
      "INFO:tensorflow:Assets written to: models/iomodel\\assets\n"
     ]
    }
   ],
   "execution_count": 58
  },
  {
   "metadata": {
    "ExecuteTime": {
     "end_time": "2024-07-12T13:50:37.243953Z",
     "start_time": "2024-07-12T13:50:37.225135Z"
    }
   },
   "cell_type": "code",
   "source": [
    "results = ModelScan().scan('models/iomodel')\n",
    "results"
   ],
   "id": "6f404c7038b59c19",
   "outputs": [
    {
     "data": {
      "text/plain": [
       "{'summary': {'total_issues_by_severity': {'LOW': 0,\n",
       "   'MEDIUM': 0,\n",
       "   'HIGH': 2,\n",
       "   'CRITICAL': 0},\n",
       "  'total_issues': 2,\n",
       "  'input_path': 'models/iomodel',\n",
       "  'absolute_path': 'C:\\\\Users\\\\nikos\\\\PycharmProjects\\\\ITHACA\\\\models\\\\iomodel',\n",
       "  'modelscan_version': '0.7.6',\n",
       "  'timestamp': '2024-07-12T16:50:37.228844',\n",
       "  'scanned': {'total_scanned': 3,\n",
       "   'scanned_files': ['fingerprint.pb', 'keras_metadata.pb', 'saved_model.pb']},\n",
       "  'skipped': {'total_skipped': 2,\n",
       "   'skipped_files': [{'category': 'SCAN_NOT_SUPPORTED',\n",
       "     'description': 'Model Scan did not scan file',\n",
       "     'source': 'variables\\\\variables.data-00000-of-00001'},\n",
       "    {'category': 'SCAN_NOT_SUPPORTED',\n",
       "     'description': 'Model Scan did not scan file',\n",
       "     'source': 'variables\\\\variables.index'}]}},\n",
       " 'issues': [{'description': \"Use of unsafe operator 'ReadFile' from module 'Tensorflow'\",\n",
       "   'operator': 'ReadFile',\n",
       "   'module': 'Tensorflow',\n",
       "   'source': 'saved_model.pb',\n",
       "   'scanner': 'modelscan.scanners.SavedModelTensorflowOpScan',\n",
       "   'severity': 'HIGH'},\n",
       "  {'description': \"Use of unsafe operator 'WriteFile' from module 'Tensorflow'\",\n",
       "   'operator': 'WriteFile',\n",
       "   'module': 'Tensorflow',\n",
       "   'source': 'saved_model.pb',\n",
       "   'scanner': 'modelscan.scanners.SavedModelTensorflowOpScan',\n",
       "   'severity': 'HIGH'}],\n",
       " 'errors': []}"
      ]
     },
     "execution_count": 62,
     "metadata": {},
     "output_type": "execute_result"
    }
   ],
   "execution_count": 62
  },
  {
   "metadata": {
    "ExecuteTime": {
     "end_time": "2024-07-12T13:51:23.958924Z",
     "start_time": "2024-07-12T13:51:23.953908Z"
    }
   },
   "cell_type": "code",
   "source": "results['summary']['total_issues_by_severity']",
   "id": "bc35754270aa7ef6",
   "outputs": [
    {
     "data": {
      "text/plain": [
       "{'LOW': 0, 'MEDIUM': 0, 'HIGH': 2, 'CRITICAL': 0}"
      ]
     },
     "execution_count": 65,
     "metadata": {},
     "output_type": "execute_result"
    }
   ],
   "execution_count": 65
  },
  {
   "metadata": {
    "ExecuteTime": {
     "end_time": "2024-07-12T13:57:32.625156Z",
     "start_time": "2024-07-12T13:57:32.610799Z"
    }
   },
   "cell_type": "code",
   "source": [
    "# create a dataframes from the results\n",
    "import pandas as pd\n",
    "df = pd.DataFrame(results['issues'], columns=['severity', 'operator', 'description'])\n",
    "df.head(10)"
   ],
   "id": "64a7e6629146657",
   "outputs": [
    {
     "data": {
      "text/plain": [
       "  severity   operator                                        description\n",
       "0     HIGH   ReadFile  Use of unsafe operator 'ReadFile' from module ...\n",
       "1     HIGH  WriteFile  Use of unsafe operator 'WriteFile' from module..."
      ],
      "text/html": [
       "<div>\n",
       "<style scoped>\n",
       "    .dataframe tbody tr th:only-of-type {\n",
       "        vertical-align: middle;\n",
       "    }\n",
       "\n",
       "    .dataframe tbody tr th {\n",
       "        vertical-align: top;\n",
       "    }\n",
       "\n",
       "    .dataframe thead th {\n",
       "        text-align: right;\n",
       "    }\n",
       "</style>\n",
       "<table border=\"1\" class=\"dataframe\">\n",
       "  <thead>\n",
       "    <tr style=\"text-align: right;\">\n",
       "      <th></th>\n",
       "      <th>severity</th>\n",
       "      <th>operator</th>\n",
       "      <th>description</th>\n",
       "    </tr>\n",
       "  </thead>\n",
       "  <tbody>\n",
       "    <tr>\n",
       "      <th>0</th>\n",
       "      <td>HIGH</td>\n",
       "      <td>ReadFile</td>\n",
       "      <td>Use of unsafe operator 'ReadFile' from module ...</td>\n",
       "    </tr>\n",
       "    <tr>\n",
       "      <th>1</th>\n",
       "      <td>HIGH</td>\n",
       "      <td>WriteFile</td>\n",
       "      <td>Use of unsafe operator 'WriteFile' from module...</td>\n",
       "    </tr>\n",
       "  </tbody>\n",
       "</table>\n",
       "</div>"
      ]
     },
     "execution_count": 69,
     "metadata": {},
     "output_type": "execute_result"
    }
   ],
   "execution_count": 69
  }
 ],
 "metadata": {
  "kernelspec": {
   "display_name": "Python 3",
   "language": "python",
   "name": "python3"
  },
  "language_info": {
   "codemirror_mode": {
    "name": "ipython",
    "version": 2
   },
   "file_extension": ".py",
   "mimetype": "text/x-python",
   "name": "python",
   "nbconvert_exporter": "python",
   "pygments_lexer": "ipython2",
   "version": "2.7.6"
  }
 },
 "nbformat": 4,
 "nbformat_minor": 5
}
